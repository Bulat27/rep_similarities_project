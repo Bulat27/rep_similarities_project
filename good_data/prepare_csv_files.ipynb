{
 "cells": [
  {
   "cell_type": "code",
   "execution_count": 17,
   "id": "d4807bd7",
   "metadata": {},
   "outputs": [],
   "source": [
    "import pandas as pd\n",
    "\n",
    "def prepare_for_id_reps_ood_performance_correlation(id_results_file, ood_results_file, output_file):\n",
    "\n",
    "    METRICS = {\"AbsoluteAccDiff\", \"JSD\", \"Disagreement\"}\n",
    "\n",
    "    # Load parquets\n",
    "    id_df  = pd.read_parquet(id_results_file).set_index(\"id\", drop=False)\n",
    "    ood_df = pd.read_parquet(ood_results_file).set_index(\"id\", drop=False)\n",
    "\n",
    "    # Keep only the three metrics from OOD\n",
    "    ood_keep = ood_df[ood_df[\"metric\"].isin(METRICS)][[\"id\", \"metric_value\"]].copy()\n",
    "\n",
    "    # Normalize ONLY the OOD ids: _ood -> _id\n",
    "    ood_keep[\"id\"] = ood_keep[\"id\"].str.replace(\"_ood\", \"_id\", regex=False)\n",
    "    ood_keep = ood_keep.set_index(\"id\", drop=False)\n",
    "\n",
    "    # Build id -> value map (1:1)\n",
    "    val_map = dict(zip(ood_keep[\"id\"], ood_keep[\"metric_value\"]))\n",
    "\n",
    "    # Overwrite ID metric_value for those metrics using the map (no checks)\n",
    "    mask = id_df[\"metric\"].isin(METRICS)\n",
    "    id_df.loc[mask, \"metric_value\"] = id_df.loc[mask, \"id\"].map(val_map)\n",
    "\n",
    "    # Save merged parquet\n",
    "    id_df.to_parquet(output_file)\n",
    "    print(f\"Saved: {output_file}\")"
   ]
  },
  {
   "cell_type": "code",
   "execution_count": null,
   "id": "1bbac434",
   "metadata": {},
   "outputs": [
    {
     "name": "stdout",
     "output_type": "stream",
     "text": [
      "Saved: /home/nikolabulat/resi_reproduction/resi/experiments/results/sample.parquet\n"
     ]
    }
   ],
   "source": [
    "id_results_file = \"/home/nikolabulat/resi_reproduction/resi/experiments/results/graphs_output_correlation_test_good_cora_deg_cov_val_id_test_id.parquet\"\n",
    "ood_results_file = \"/home/nikolabulat/resi_reproduction/resi/experiments/results/graphs_output_correlation_test_good_cora_deg_cov_val_id_test_ood.parquet\"\n",
    "output_file = \"/home/nikolabulat/resi_reproduction/resi/experiments/results/sample.parquet\"\n",
    "\n",
    "prepare_for_id_reps_ood_performance_correlation(id_results_file, ood_results_file, output_file)"
   ]
  },
  {
   "cell_type": "code",
   "execution_count": 1,
   "id": "f91a8d23",
   "metadata": {},
   "outputs": [],
   "source": [
    "import pandas as pd\n",
    "\n",
    "def make_abs_shift_parquet(id_results_file: str,\n",
    "                           ood_results_file: str,\n",
    "                           output_file: str) -> None:\n",
    "    \"\"\"\n",
    "    Create a parquet where each row's metric_value is |metric_value_ID - metric_value_OOD|,\n",
    "    matched 1:1 by the long 'id' string (normalizing _ood -> _id on the OOD file).\n",
    "    Only rows present in BOTH files (by id) are written.\n",
    "    \"\"\"\n",
    "\n",
    "    # Load and keep 'id' as both column and index\n",
    "    id_df  = pd.read_parquet(id_results_file).set_index(\"id\", drop=False)\n",
    "    ood_df = pd.read_parquet(ood_results_file).set_index(\"id\", drop=False)\n",
    "\n",
    "    # Normalize ONLY OOD ids so they match ID ids\n",
    "    ood_df = ood_df.copy()\n",
    "    ood_df[\"id\"] = ood_df[\"id\"].str.replace(\"_ood\", \"_id\", regex=False)\n",
    "    ood_df = ood_df.set_index(\"id\", drop=False)\n",
    "\n",
    "    # Intersect by id\n",
    "    common_ids = id_df.index.intersection(ood_df.index)\n",
    "\n",
    "    # Start from the ID rows, then replace metric_value with absolute difference\n",
    "    out = id_df.loc[common_ids].copy()\n",
    "    out[\"metric_value\"] = (id_df.loc[common_ids, \"metric_value\"]\n",
    "                           - ood_df.loc[common_ids, \"metric_value\"]).abs()\n",
    "\n",
    "    # Save result\n",
    "    out.to_parquet(output_file)\n",
    "    print(f\"Saved: {output_file}\")\n"
   ]
  },
  {
   "cell_type": "code",
   "execution_count": 2,
   "id": "fcc8a425",
   "metadata": {},
   "outputs": [
    {
     "name": "stdout",
     "output_type": "stream",
     "text": [
      "Saved: /home/nikolabulat/resi_reproduction/resi/experiments/results/sample_abs.parquet\n"
     ]
    }
   ],
   "source": [
    "id_results_file = \"/home/nikolabulat/resi_reproduction/resi/experiments/results/graphs_output_correlation_test_good_cora_deg_cov_val_id_test_id.parquet\"\n",
    "ood_results_file = \"/home/nikolabulat/resi_reproduction/resi/experiments/results/graphs_output_correlation_test_good_cora_deg_cov_val_id_test_ood.parquet\"\n",
    "output_file = \"/home/nikolabulat/resi_reproduction/resi/experiments/results/sample_abs.parquet\"\n",
    "\n",
    "make_abs_shift_parquet(id_results_file, ood_results_file, output_file)"
   ]
  }
 ],
 "metadata": {
  "kernelspec": {
   "display_name": ".venv (3.10.18)",
   "language": "python",
   "name": "python3"
  },
  "language_info": {
   "codemirror_mode": {
    "name": "ipython",
    "version": 3
   },
   "file_extension": ".py",
   "mimetype": "text/x-python",
   "name": "python",
   "nbconvert_exporter": "python",
   "pygments_lexer": "ipython3",
   "version": "3.10.18"
  }
 },
 "nbformat": 4,
 "nbformat_minor": 5
}
